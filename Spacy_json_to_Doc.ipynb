{
  "nbformat": 4,
  "nbformat_minor": 0,
  "metadata": {
    "colab": {
      "name": "Spacy_json_to_Doc.ipynb",
      "provenance": []
    },
    "kernelspec": {
      "name": "python3",
      "display_name": "Python 3"
    },
    "language_info": {
      "name": "python"
    }
  },
  "cells": [
    {
      "cell_type": "code",
      "execution_count": null,
      "metadata": {
        "id": "IC463lXOSsLw"
      },
      "outputs": [],
      "source": [
        "##Import this library\n",
        "!git clone https://github.com/astutic/brat-standoff-to-json.git"
      ]
    },
    {
      "cell_type": "code",
      "source": [
        "### Copy the annotation.conf into your desired dataset folder \n",
        "# Change the annotation.conf\n",
        "!cp /content/brat-standoff-to-json/testData/CoNLL-ST_2002/annotation.conf \"/path/to/ANN_and_TXT/\""
      ],
      "metadata": {
        "id": "BPmLtcXGTFMM"
      },
      "execution_count": null,
      "outputs": []
    },
    {
      "cell_type": "code",
      "source": [
        "#To check which content the annotation.conf have\n",
        "!cat /your/path/to/annotation.conf"
      ],
      "metadata": {
        "id": "PmuIUSR5TxtA"
      },
      "execution_count": null,
      "outputs": []
    },
    {
      "cell_type": "markdown",
      "source": [
        "#Go Installation Above repo works on GO language."
      ],
      "metadata": {
        "id": "wTyu5HPpUNK9"
      }
    },
    {
      "cell_type": "code",
      "source": [
        "# run this cell first time using python runtime\n",
        "!add-apt-repository ppa:longsleep/golang-backports -y\n",
        "!apt update\n",
        "!apt install golang-go\n",
        "%env GOPATH=/root/go\n",
        "!go get -u github.com/gopherdata/gophernotes\n",
        "!cp ~/go/bin/gophernotes /usr/bin/\n",
        "!npx degit gopherdata/gophernotes/kernel \\\n",
        "     /usr/local/share/jupyter/kernels/gophernotes\n",
        "# then refresh, it will now use gophernotes. Skip to golang in later cells"
      ],
      "metadata": {
        "id": "UUSjzxS3UJHs"
      },
      "execution_count": null,
      "outputs": []
    },
    {
      "cell_type": "markdown",
      "source": [
        "###Go to your folder and make a json dataset."
      ],
      "metadata": {
        "id": "Z9hnrzaRUlA9"
      }
    },
    {
      "cell_type": "code",
      "source": [
        "%cd /content/brat-standoff-to-json/\n",
        "!pwd\n",
        "!go run main.go -p \"/your/folder/to/annotation/folder/\" -f --output \"/yourfolder/filename.json\"\n",
        "#example below\n",
        "#!go run main.go -p \"/content/total/train/\" -f --output \"/content/train.json\""
      ],
      "metadata": {
        "id": "-Nj29d-UUkIb"
      },
      "execution_count": null,
      "outputs": []
    },
    {
      "cell_type": "markdown",
      "source": [
        "###Now you have made .json file "
      ],
      "metadata": {
        "id": "Yj5QhK7nVKCO"
      }
    },
    {
      "cell_type": "code",
      "source": [
        "import json\n",
        "mk = open(\"test.json\",\"r\")\n",
        "df = mk.readlines()\n",
        "#df.close()\n",
        "\n",
        "main_list=[]\n",
        "\n",
        "for i in df:\n",
        "  a=json.loads(i)\n",
        "  b=a[\"Entities\"]\n",
        "  ent={\"entities\":[tuple(x) for x in b]}\n",
        "  ll = list()\n",
        "  ll.append(a[\"Data\"])\n",
        "  ll.append(ent)\n",
        "  final = tuple(ll)\n",
        "  main_list.append(final)"
      ],
      "metadata": {
        "id": "5ta_RdYmVEDf"
      },
      "execution_count": null,
      "outputs": []
    },
    {
      "cell_type": "markdown",
      "source": [
        "###!^ Above will give you file like this \n",
        "('I am Surjit', {(6,11,\"PER\")}\n",
        "\n",
        "You can change above tuple to normal python list.\n",
        "**bold text**"
      ],
      "metadata": {
        "id": "lzSOiPmJV8jz"
      }
    },
    {
      "cell_type": "markdown",
      "source": [
        "###check some example below"
      ],
      "metadata": {
        "id": "IE48bAZIVwZd"
      }
    },
    {
      "cell_type": "code",
      "source": [
        "for i in main_list[0:1]:\n",
        "  print(i)"
      ],
      "metadata": {
        "id": "S1pB4MxwVzXS"
      },
      "execution_count": null,
      "outputs": []
    },
    {
      "cell_type": "markdown",
      "source": [
        "#Its time for making train.spacy files"
      ],
      "metadata": {
        "id": "822mMdehWiI_"
      }
    },
    {
      "cell_type": "code",
      "source": [
        "import spacy\n",
        "!python3 -m spacy download en_core_web_lg #any version you want"
      ],
      "metadata": {
        "id": "0ySOoVF3Whbd"
      },
      "execution_count": null,
      "outputs": []
    },
    {
      "cell_type": "code",
      "source": [
        "import pandas as pd\n",
        "import os\n",
        "from tqdm import tqdm\n",
        "import spacy\n",
        "from spacy.tokens import DocBin\n",
        "\n",
        "#nlp = spacy.blank(\"en\") # load a new spacy model\n",
        "nlp = spacy.load(\"en_core_web_lg\") # load other spacy model\n",
        "\n",
        "db = DocBin() # create a DocBin object\n",
        "count=0\n",
        "for text, annot in tqdm(returned_data): # data in previous format\n",
        "    count = count+1\n",
        "    doc = nlp.make_doc(text) # create doc object from text\n",
        "    ents = []\n",
        "    for start, end, label in annot[\"entities\"]: # add character indexes\n",
        "        span = doc.char_span(start, end, label=label)#, alignment_mode=\"contract\")\n",
        "        if span is None:\n",
        "            print(\"Skipping entity\")\n",
        "        else:\n",
        "            ents.append(span)\n",
        "    print(ents)\n",
        "    print(count)\n",
        "    doc.ents = ents # label the text with the ents\n",
        "    db.add(doc)\n",
        "\n",
        "os.chdir('/content/')\n",
        "db.to_disk(\"./surjittest.spacy\") # save the docbin object"
      ],
      "metadata": {
        "id": "tbzh47zJW7WW"
      },
      "execution_count": null,
      "outputs": []
    },
    {
      "cell_type": "markdown",
      "source": [
        "#Value Error : Span not matched or leading and trailing error etc.\n",
        "Run Below Cell code first.\n",
        "\n",
        "\n",
        "#Span not matched or same entiy span used two time.\n",
        "just pop that item from list eq:\n",
        "main_list.pop(index_number)\n",
        "OR correct manually\n"
      ],
      "metadata": {
        "id": "zJmntaAdXEJO"
      }
    },
    {
      "cell_type": "code",
      "source": [
        "import re\n",
        "def trim_entity_spans(data: list) -> list:\n",
        "    \"\"\"Removes leading and trailing white spaces from entity spans.\n",
        "\n",
        "    Args:\n",
        "        data (list): The data to be cleaned in spaCy JSON format.\n",
        "\n",
        "    Returns:\n",
        "        list: The cleaned data.\n",
        "    \"\"\"\n",
        "    invalid_span_tokens = re.compile(r'\\s')\n",
        "\n",
        "    cleaned_data = []\n",
        "    for text, annotations in data:\n",
        "        entities = annotations['entities']\n",
        "        valid_entities = []\n",
        "        for start, end, label in entities:\n",
        "            valid_start = start\n",
        "            valid_end = end\n",
        "            while valid_start < len(text) and invalid_span_tokens.match(\n",
        "                    text[valid_start]):\n",
        "                valid_start += 1\n",
        "            while valid_end > 1 and invalid_span_tokens.match(\n",
        "                    text[valid_end - 1]):\n",
        "                valid_end -= 1\n",
        "            valid_entities.append([valid_start, valid_end, label])\n",
        "        cleaned_data.append([text, {'entities': valid_entities}])\n",
        "\n",
        "    return cleaned_data"
      ],
      "metadata": {
        "id": "crpzJJloXCMe"
      },
      "execution_count": null,
      "outputs": []
    },
    {
      "cell_type": "code",
      "source": [
        "ouput_data = trim_entity_span(main_list)"
      ],
      "metadata": {
        "id": "AdrCyDrJXhsG"
      },
      "execution_count": null,
      "outputs": []
    }
  ]
}